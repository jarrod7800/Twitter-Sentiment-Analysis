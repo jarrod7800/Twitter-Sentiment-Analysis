{
 "cells": [
  {
   "cell_type": "markdown",
   "id": "88ee9571-2283-45ae-be93-2a13aac624db",
   "metadata": {},
   "source": [
    "# Tweet Sentiment Analysis Project, Part I\n",
    "\n",
    "## Getting the Tweets\n",
    "\n",
    "## By Jarrod Mautz"
   ]
  },
  {
   "cell_type": "code",
   "execution_count": 1,
   "id": "62126d45-3e09-4a61-a5e4-8088b1551457",
   "metadata": {},
   "outputs": [],
   "source": [
    "import re\n",
    "import pandas as pd\n",
    "import tweepy as tw\n",
    "from tweepy import OAuthHandler\n",
    "from textblob import TextBlob\n",
    "import configparser"
   ]
  },
  {
   "cell_type": "markdown",
   "id": "cbef6dad-8f34-4458-a1a3-6d2675c9471a",
   "metadata": {},
   "source": [
    "# Create a TwitterAPIClient Class\n",
    "\n",
    "Initialization authenticates our twitter API. We can then get_tweets, clean a tweet, or get_tweet_sentiment"
   ]
  },
  {
   "cell_type": "code",
   "execution_count": null,
   "id": "9d5e9fdc-8dda-4f29-b92a-8ed84cfb16bb",
   "metadata": {},
   "outputs": [],
   "source": [
    "class TwitterClient(object):\n",
    "    '''\n",
    "    Generic Twitter Class for sentiment analysis.\n",
    "    '''\n",
    "    def __init__(self):\n",
    "        '''\n",
    "        Class constructor or initialization method.\n",
    "        '''\n",
    "        \n",
    "        # grab config passwords from config.ini\n",
    "        config = configparser.ConfigParser()\n",
    "        config.read('config.ini')\n",
    "        \n",
    "        \n",
    "        # keys and tokens from the Twitter Dev Console\n",
    "        api_key = config['twitter']['api_key']\n",
    "        api_key_secret = config['twitter']['api_key_secret']\n",
    "        access_token = config['twitter']['access_token']\n",
    "        access_token_secret = config['twitter']['access_token_secret']\n",
    "  \n",
    "        # attempt authentication\n",
    "        try:\n",
    "            # create OAuthHandler object\n",
    "            self.auth = OAuthHandler(api_key, api_key_secret)\n",
    "            # set access token and secret\n",
    "            self.auth.set_access_token(access_token, access_token_secret)\n",
    "            # create tweepy API object to fetch tweets\n",
    "            self.api = tw.API(self.auth)\n",
    "        except:\n",
    "            print(\"Error: Authentication Failed\")\n",
    "            \n",
    "  \n",
    "    def get_tweets(self, query, count = 2, lang = 'en'):\n",
    "        '''\n",
    "        Main function to fetch tweets and parse them.\n",
    "        '''\n",
    "        # empty list to store parsed tweets\n",
    "        tweets = []\n",
    "  \n",
    "        try:\n",
    "            # call twitter api to fetch pagination of tweets\n",
    "            fetched_tweets = tw.Cursor(self.api.search_tweets, q = query, lang = lang, tweet_mode = 'extended').items(count)\n",
    "            \n",
    "            # parsing tweets one by one\n",
    "            for tweet in fetched_tweets:\n",
    "                # empty dictionary to store required params of a tweet\n",
    "                parsed_tweet = {}\n",
    "            \n",
    "                # saving text of tweet\n",
    "                parsed_tweet['Text'] = self.clean_tweet(tweet.full_text)\n",
    "                \n",
    "                parsed_tweet['Time'] = tweet.created_at\n",
    "                \n",
    "                parsed_tweet['Location'] = self.clean_tweet(tweet.user.location)\n",
    "                \n",
    "                parsed_tweet['User'] = tweet.user.screen_name\n",
    "                \n",
    "                parsed_tweet['Verified'] = tweet.user.verified\n",
    "                \n",
    "                # saving sentiment of tweet\n",
    "                parsed_tweet['Sentiment'] = self.get_tweet_sentiment(self.clean_tweet(tweet.full_text))\n",
    "\n",
    "                tweets.append(parsed_tweet)\n",
    "  \n",
    "            # return parsed tweets\n",
    "            return tweets\n",
    "  \n",
    "        except tw.errors.TweepyException as e:\n",
    "            # print error (if any)\n",
    "            print(\"Error: \" + str(e))\n",
    "            \n",
    "    def clean_tweet(self, tweet):\n",
    "        '''\n",
    "        Utility function to clean tweet text by removing links, special characters\n",
    "        using simple regex statements.\n",
    "        '''\n",
    "        \n",
    "        tweet = re.sub(\"(@[A-Za-z0-9]+) | ([^0-9A-Za-z \\t]) | (\\w+:\\/\\/\\S+)\", \" \", tweet).lower().split()\n",
    "        cleaned_tweet = \" \".join(tweet)\n",
    "        return cleaned_tweet\n",
    "    \n",
    "  \n",
    "    def get_tweet_sentiment(self, tweet):\n",
    "        '''\n",
    "        Utility function to classify sentiment of passed tweet\n",
    "        using textblob's sentiment method\n",
    "        '''\n",
    "        # create TextBlob object of passed tweet text\n",
    "        analysis = TextBlob(self.clean_tweet(tweet))\n",
    "        # set sentiment\n",
    "        if analysis.sentiment.polarity > 0:\n",
    "            return 'positive'\n",
    "        elif analysis.sentiment.polarity == 0:\n",
    "            return 'neutral'\n",
    "        else:\n",
    "            return 'negative'\n",
    "        "
   ]
  },
  {
   "cell_type": "markdown",
   "id": "b44f1b49-5daa-4bec-a993-3561cf3c7268",
   "metadata": {},
   "source": [
    "## Instantiate Twitter API object"
   ]
  },
  {
   "cell_type": "code",
   "execution_count": null,
   "id": "dfc81bb1-8660-4aed-9283-4626852a12ba",
   "metadata": {},
   "outputs": [],
   "source": [
    "# creating object of TwitterClient Class\n",
    "api = TwitterClient()"
   ]
  },
  {
   "cell_type": "markdown",
   "id": "4a2dcc5d-7b09-4c94-b292-01e66bcdfcd9",
   "metadata": {},
   "source": [
    "## Create query, then get tweets"
   ]
  },
  {
   "cell_type": "code",
   "execution_count": null,
   "id": "4435c75b-860a-4156-a338-44ef53d48c16",
   "metadata": {},
   "outputs": [],
   "source": [
    "# calling function to get tweets\n",
    "query = \"bitcoin -filter:retweets\"\n",
    "tweets = pd.DataFrame(api.get_tweets(query = query, count = 600))"
   ]
  },
  {
   "cell_type": "markdown",
   "id": "d5000852-92f5-461c-9eaf-49cf10f43aa9",
   "metadata": {},
   "source": [
    "## Limit duplicate tweets further"
   ]
  },
  {
   "cell_type": "code",
   "execution_count": null,
   "id": "afb403c2-378a-402b-9cc8-26a873cdfbc3",
   "metadata": {},
   "outputs": [],
   "source": [
    "tweets.drop_duplicates(subset=\"Text\", keep=False, inplace=True)"
   ]
  },
  {
   "cell_type": "markdown",
   "id": "51b1269b-c42a-4644-9c37-eef8bccdd951",
   "metadata": {},
   "source": [
    "## Format our dataset, then export to csv"
   ]
  },
  {
   "cell_type": "code",
   "execution_count": null,
   "id": "a6d4f899-f4eb-41e1-bab4-2e1f5200f58c",
   "metadata": {},
   "outputs": [],
   "source": [
    "tweets['Location'] = tweets['Location'].str.replace(',','')\n",
    "tweets['Text'] = tweets['Text'].str.replace(',','')"
   ]
  },
  {
   "cell_type": "code",
   "execution_count": null,
   "id": "71c2a385-3ed7-4806-8979-2f80283f5f68",
   "metadata": {},
   "outputs": [],
   "source": [
    "tweets.to_csv(\"bitcoin_tweets.csv\", sep = ',')"
   ]
  }
 ],
 "metadata": {
  "kernelspec": {
   "display_name": "Python 3",
   "language": "python",
   "name": "python3"
  },
  "language_info": {
   "codemirror_mode": {
    "name": "ipython",
    "version": 3
   },
   "file_extension": ".py",
   "mimetype": "text/x-python",
   "name": "python",
   "nbconvert_exporter": "python",
   "pygments_lexer": "ipython3",
   "version": "3.8.8"
  }
 },
 "nbformat": 4,
 "nbformat_minor": 5
}
